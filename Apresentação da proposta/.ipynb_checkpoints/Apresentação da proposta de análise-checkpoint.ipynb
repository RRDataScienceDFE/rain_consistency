{
 "cells": [
  {
   "cell_type": "markdown",
   "metadata": {},
   "source": [
    "# Análise dos modelos de estimativa de precipitação por radar aplicados pelo Cemaden "
   ]
  },
  {
   "cell_type": "markdown",
   "metadata": {},
   "source": [
    "# Introdução\n",
    "\n",
    "- Importância dos dados de chuva: Aplicação no processo de modelagem hidrológica e hidraúlica (estudo de vazões de escoamento superfial e em leito de corpos d'água);\n",
    "- Baixa disponibilidade de dados temporais e espaciais a partir dos postos pluviométricos convencionais;\n",
    "- Alternativa: Dados oriundos da modelagem via radares;\n",
    "- Modelagem via radares: diferentes modelos aplicados para estimar o mesmo tipo de dado;\n",
    "- Comparação entre os dados gerados por diferentes modelos aplicado nos radares e os dados obtidos por estações convencionais.\n"
   ]
  },
  {
   "cell_type": "markdown",
   "metadata": {},
   "source": [
    "# Objetivos\n",
    "\n",
    "- Propor qual modelo aplicado pelos radares melhor se ajusta aos dados das estações pluviométricas convencionais."
   ]
  },
  {
   "cell_type": "markdown",
   "metadata": {},
   "source": [
    "# Objetivos específicos\n",
    "\n",
    "- Caracterizar espacialmente e temporalmente a precipitação na área de estudo a partir dos dados obtidos pelos postos pluviométricos convencionais;\n",
    "- Comparar as estimativas de precipitação obtidas pelos modelos aplicados em radares do Cemaden e os obtidos nos postos pluviométricos."
   ]
  },
  {
   "cell_type": "markdown",
   "metadata": {},
   "source": [
    "# Metodologia\n",
    "\n",
    "- Área de estudo: Bacia do Rio Mundaú\n",
    "- Desenvolver aplicação para análise, tratamento e vizualização dos dados de precipitação;\n",
    "- Obtenção dos dados;\n",
    "- Caracterizar a disponibilidade dos dados dos postos convencionais:\n",
    "    - Definir postos de influência à área de estudo;\n",
    "    - Definir intervalo temporal para comparação;\n",
    "    - Tratar dados, caso necessário.\n",
    "- Caracterizar a chuva, na área de estudo, a partir dos dados dos postos convencionais e dos dados de radar;\n",
    "- Comparar os resultados a partir do coeficiente de Nash-Sutcliffe Médio, coeficiente de correlação de person e visualmente a partir de mapas de calor."
   ]
  },
  {
   "cell_type": "markdown",
   "metadata": {},
   "source": [
    "# Resultados Esperados\n",
    "\n",
    "- Caracterização espacial e temporal dos dados de precipitação oriundos dos postos pluviométricos convencionais: \n",
    "\n",
    "<table class=\"image\" style= \"position:relative;float:left\">\n",
    "<caption align=\"bottom\">Figura 1 - Distribuição espacial dos postos de observação</caption>\n",
    "<tr><td><img src=\"Mapa_BCMundau.png\" alt=\"funcionalidades\" width=400/>\n",
    "</td></tr>\n",
    "</table>\n",
    "\n",
    "<table class=\"image\">\n",
    "<caption align=\"bottom\">Figura 2 - Disponibilidade Temporal de Dados.</caption>\n",
    "<tr><td><img src=\"gantt.png\" alt=\"mapas\" width=500/>\n",
    "</td></tr>\n",
    "</table>\n",
    "\n"
   ]
  },
  {
   "cell_type": "markdown",
   "metadata": {},
   "source": [
    "- Distribuição espacial da precipitação oriunda do radar:\n",
    "\n",
    "<table class=\"image\">\n",
    "<caption align=\"bottom\">Figura 3 - Mapas de precipitação.</caption>\n",
    "<tr><td><img src=\"mapas.jpg\" alt=\"mapas\" width=500/>\n",
    "</td></tr>\n",
    "</table>\n",
    "- Vizualização dos dados de precipitação distribuídos espacialmente com os dados do método que se apresentar como melhor após as comparações (Figura 3).\n"
   ]
  },
  {
   "cell_type": "code",
   "execution_count": null,
   "metadata": {},
   "outputs": [],
   "source": []
  }
 ],
 "metadata": {
  "kernelspec": {
   "display_name": "Python 3",
   "language": "python",
   "name": "python3"
  },
  "language_info": {
   "codemirror_mode": {
    "name": "ipython",
    "version": 3
   },
   "file_extension": ".py",
   "mimetype": "text/x-python",
   "name": "python",
   "nbconvert_exporter": "python",
   "pygments_lexer": "ipython3",
   "version": "3.5.2"
  }
 },
 "nbformat": 4,
 "nbformat_minor": 2
}
