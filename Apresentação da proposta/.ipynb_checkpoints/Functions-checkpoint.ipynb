{
 "cells": [
  {
   "cell_type": "code",
   "execution_count": null,
   "metadata": {},
   "outputs": [],
   "source": [
    "#Leitura de dados binários - Radar\n",
    "def input_bin(diretório contendo arquivos bin):\n",
    "    return (Matriz de DataFrames de Dados de Radar)"
   ]
  },
  {
   "cell_type": "code",
   "execution_count": null,
   "metadata": {},
   "outputs": [],
   "source": [
    "#Criação da malha de discretização espacial\n",
    "def spatial_grid(arquivo .ctl - auxiliar):\n",
    "    return (Matriz de coordenadas X e Y)"
   ]
  },
  {
   "cell_type": "code",
   "execution_count": null,
   "metadata": {},
   "outputs": [],
   "source": [
    "#Leitura de dados postos convencionais\n",
    "def input_txt(diretório contendo arquivos .txt):\n",
    "    return (DataFrame temporal, Lista de Códigos de Posto)"
   ]
  },
  {
   "cell_type": "code",
   "execution_count": null,
   "metadata": {},
   "outputs": [],
   "source": [
    "# Dados dos postos convencionais\n",
    "def get_station_info(Lista de Códigos de Postos, dados):\n",
    "    return (Dicionário - Chave: Código do posto; Valor: Dicionário - Chaves/Valores: Nome do posto, Código do posto, \n",
    "            geolocalização dos postos e dados)"
   ]
  },
  {
   "cell_type": "code",
   "execution_count": null,
   "metadata": {},
   "outputs": [],
   "source": [
    "#Gerar estrutura de dados dos postos convencionais\n",
    "def get_data_from_txt():\n",
    "    temporal_series, station_list = input_txt()\n",
    "    station_data = get_station_info(station_list,temporal_series)\n",
    "    return (station_data)"
   ]
  },
  {
   "cell_type": "code",
   "execution_count": null,
   "metadata": {},
   "outputs": [],
   "source": [
    "#Interpolação dos dados dos postos convecionais\n",
    "def interp_dist(Dicionário de dados dos postos, Matriz de coordendas X e T):\n",
    "    return (Matriz de DataFrames de Dados de Postos)"
   ]
  },
  {
   "cell_type": "code",
   "execution_count": null,
   "metadata": {},
   "outputs": [],
   "source": [
    "def plot_map(Matriz dados plotagem)"
   ]
  },
  {
   "cell_type": "code",
   "execution_count": null,
   "metadata": {},
   "outputs": [],
   "source": [
    "def matrix_fail(Matriz de Dados)\n",
    "    return(Matriz de Dados de Falhas)"
   ]
  },
  {
   "cell_type": "code",
   "execution_count": null,
   "metadata": {},
   "outputs": [],
   "source": []
  }
 ],
 "metadata": {
  "kernelspec": {
   "display_name": "Python 3",
   "language": "python",
   "name": "python3"
  },
  "language_info": {
   "codemirror_mode": {
    "name": "ipython",
    "version": 3
   },
   "file_extension": ".py",
   "mimetype": "text/x-python",
   "name": "python",
   "nbconvert_exporter": "python",
   "pygments_lexer": "ipython3",
   "version": "3.5.2"
  }
 },
 "nbformat": 4,
 "nbformat_minor": 2
}
