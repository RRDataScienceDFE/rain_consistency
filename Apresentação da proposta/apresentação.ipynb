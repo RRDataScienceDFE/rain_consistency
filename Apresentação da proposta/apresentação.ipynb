{
 "cells": [
  {
   "cell_type": "markdown",
   "metadata": {},
   "source": [
    "# Processamento e análise de dados de precipitação oriundos de radar"
   ]
  },
  {
   "cell_type": "markdown",
   "metadata": {},
   "source": [
    "## Justificativa"
   ]
  },
  {
   "cell_type": "markdown",
   "metadata": {},
   "source": [
    "## Objetivos"
   ]
  },
  {
   "cell_type": "markdown",
   "metadata": {},
   "source": [
    "## Resultados esperados\n",
    "\n",
    "Espera-se o desenvolvimento de uma aplicação executável em windows que, a partir de comunicação com o usuário a partir de janela de comandos, estruturado conforme a Figura 1.\n",
    "\n",
    "<table class=\"image\">\n",
    "<caption align=\"bottom\">Figura 1 - Estruturação das funcionalidades do programa</caption>\n",
    "<tr><td><img src=\"funcionalidades.png\" alt=\"funcionalidades\" width=500/>\n",
    "</td></tr>\n",
    "</table>\n",
    "\n",
    "Desta forma, os dados necessários para entrada no programa (input) serão arquivos binários selecionados pelo usuário a partir de caixas de diálogo, já os dados de saída serão arquivos txt, gráficos e informações escritas. "
   ]
  },
  {
   "cell_type": "markdown",
   "metadata": {},
   "source": [
    "## Detalhamento das partes do programa\n",
    "\n",
    "A entrega do projeto será feita em 3 etapas, primeiramente será entregue um protótipo capaz de fazer a leitura dos arquivos binários e conversão em arquivos de texto. Feito isso, o próximo protótipo agregará as funcionalidades de relatório de falhas e análise de consistência. Em seguida será entregue um proótipo com todas as funcionalidades, incluindo visualização dos dados.\n",
    "\n",
    "#### a) Leitura de arquivos binários e conversão para txt\n",
    "\n",
    "Para a entrada de dados, o usuário poderá selecionar os arquivos a serem adicionados ao programa a partir de caixa de diálogo. O resultado do programa será arquivos em txt no formato padrão de entrada no modelo hidrológico.\n",
    "\n",
    "#### b) Relatório de falhas e análise de consistência\n",
    "\n",
    "O usuário poderá escolher se o programa fará relatório de falhas e/ou preenchimento delas a partir de interpolação. Além disso, será possível escolher se será realizada a análise de consistência dos dados utilizando o método da dupla massa e o que acontecerá com os dados inconsistentes (retirada ou substituição por preenchimento de falhas).\n",
    "\n",
    "### c) Visualização\n",
    "\n",
    "Com o intuito de facilitar a visualização temporal e espacial das séries de dados, será possível plotar gráficos interativos (hidrogramas e mapas). "
   ]
  },
  {
   "cell_type": "markdown",
   "metadata": {},
   "source": [
    "## Metodologia de execução\n",
    "\n",
    "O planejamento e gerenciamento das atividades do projeto ocorrerá utilizando versionamento de código ([github](http://github.com/ewerton94/rain_consistency)), kanban ([waffle](https://waffle.io/ewerton94/rain_consistency)) e comunicação formal por slack. O código aberto do programa poderá ser encontrado no github."
   ]
  },
  {
   "cell_type": "markdown",
   "metadata": {},
   "source": [
    "## Premissas e restrições\n",
    "\n",
    "O time de densolvimento tem certa proximidade com o cliente, por isso espera-se que dúvidas levantadas sejam sanadas em até 3 dias. Para que as atividades possam ser realizadas no prazo, cada membro dedicará ao menos 4 horas semanais ao desenvolvimento da etapa de projeto."
   ]
  },
  {
   "cell_type": "markdown",
   "metadata": {},
   "source": [
    "## Cronograma"
   ]
  },
  {
   "cell_type": "code",
   "execution_count": null,
   "metadata": {},
   "outputs": [],
   "source": []
  }
 ],
 "metadata": {
  "kernelspec": {
   "display_name": "Python 3",
   "language": "python",
   "name": "python3"
  },
  "language_info": {
   "codemirror_mode": {
    "name": "ipython",
    "version": 3
   },
   "file_extension": ".py",
   "mimetype": "text/x-python",
   "name": "python",
   "nbconvert_exporter": "python",
   "pygments_lexer": "ipython3",
   "version": "3.6.2"
  }
 },
 "nbformat": 4,
 "nbformat_minor": 2
}
