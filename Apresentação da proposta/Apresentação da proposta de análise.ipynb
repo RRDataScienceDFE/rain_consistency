{
 "cells": [
  {
   "cell_type": "markdown",
   "metadata": {},
   "source": [
    "# Introdução\n",
    "\n",
    "- Importância dos dados de chuva: Processo de modelagem hidrológica e hidraúlica (estudo de vazões de escoamento superfial e em leito de corpos d'água);\n",
    "- Baixa disponibilidade de dados temporais e espaciais a partir dos postos pluviométricos convencionais;\n",
    "- Alternativa: Dados oriundos da modelagem via radares;\n",
    "- Modelagem via radares: diferentes modelos aplicados para estimar o mesmo tipo de dado;\n",
    "- Comparação entre os dados gerados por diferentes modelos aplicado nos radares e os dados obtidos por estações convencionais.\n"
   ]
  },
  {
   "cell_type": "markdown",
   "metadata": {},
   "source": [
    "# Objetivos\n",
    "\n",
    "- Propor qual modelo aplicado pelos radares se ajusta melhor aos dados das estações pluviométricas convencionais."
   ]
  },
  {
   "cell_type": "markdown",
   "metadata": {},
   "source": [
    "# Metodologia\n",
    "\n",
    "- Área de estudo: Bacio do Rio Mundaú\n",
    "- Desenvolver aplicação para análise, tratamento e vizualização dos dados de precipitação;\n",
    "- Obtenção dos dados;\n",
    "- Caracterizar a disponibilidade dos dados dos postos convencionais:\n",
    "    - Definir postos de influência à área de estudo;\n",
    "    - Definir intervalo temporal para comparação;\n",
    "    - Tratar dados, caso necessário.\n",
    "- Caracterizar a chuva, na área de estudo, a partir dos dados dos postos convencionais e dos dados de radar;\n",
    "- Comparar os resultados a partir do coeficiente de Nash-Sutcliffe Médio, coeficiente de correlação de person e visualmente a partir de mapas de calor."
   ]
  },
  {
   "cell_type": "markdown",
   "metadata": {},
   "source": [
    "# Resultados Esperados\n",
    "\n",
    "- Código com a seguinte a estrutura: \n",
    "\n",
    "<table class=\"image\">\n",
    "<caption align=\"bottom\">Figura 1 - Estruturação das funcionalidades do programa</caption>\n",
    "<tr><td><img src=\"funcionalidades.png\" alt=\"funcionalidades\" width=500/>\n",
    "</td></tr>\n",
    "</table>\n",
    "\n",
    "- Vizualização dos dados de precipitação distribuídos espacialmente a partir de mapas de calor (Figura 2).\n",
    "\n",
    "<table class=\"image\">\n",
    "<caption align=\"bottom\">Figura 2 - Mapas de precipitação.</caption>\n",
    "<tr><td><img src=\"mapas.jpg\" alt=\"mapas\" width=500/>\n",
    "</td></tr>\n",
    "</table>\n",
    "\n",
    "- Sugerir o modelo usado pelo radar que melhor representa as chuvas dos postos pluviométricos.\n"
   ]
  },
 ],
 "metadata": {
  "kernelspec": {
   "display_name": "Python 3",
   "language": "python",
   "name": "python3"
  },
  "language_info": {
   "codemirror_mode": {
    "name": "ipython",
    "version": 3
   },
   "file_extension": ".py",
   "mimetype": "text/x-python",
   "name": "python",
   "nbconvert_exporter": "python",
   "pygments_lexer": "ipython3",
   "version": "3.5.2"
  }
 },
 "nbformat": 4,
 "nbformat_minor": 2
}
