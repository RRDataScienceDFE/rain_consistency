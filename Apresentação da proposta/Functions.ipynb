{
 "cells": [
  {
   "cell_type": "code",
   "execution_count": null,
   "metadata": {},
   "outputs": [],
   "source": [
    "def input_bin(bin_file_path):\n",
    "    '''\n",
    "    Função responsável pela leitura de dados oriundos de radar no formato .bin.\n",
    "    \n",
    "    Parâmetros de entrada: path <str>: diretório que contém o arquivo binário (.bin)\n",
    "    \n",
    "    Return: matrix_of_series <np.array>: matriz de objetos do tipo pd.Series,\n",
    "    contendo em cada elemento da matriz, uma série temporal dos dados em cada ponto.\n",
    "    '''\n",
    "    return matrix_of_series"
   ]
  },
  {
   "cell_type": "code",
   "execution_count": null,
   "metadata": {},
   "outputs": [],
   "source": [
    "def spatial_grid(ctl_file_path):\n",
    "    '''\n",
    "    Função responsável pela criação da malha de discretização espacial de dados oriundos de radar\n",
    "    \n",
    "    Parâmetros de entrada: ctl_file_path <str>: diretório que contém o arquivo de metadados (.ctl)\n",
    "    \n",
    "    Return: matrix_of_coordinates <np.array>: matriz de objetos do dictionary,\n",
    "    contendo para cada elemento da matriz, a respectiva localização geográfica.\n",
    "    '''\n",
    "    return matrix_of_coordinates"
   ]
  },
  {
   "cell_type": "code",
   "execution_count": null,
   "metadata": {},
   "outputs": [],
   "source": [
    "def input_txt(txt_file_path):\n",
    "    '''\n",
    "    Função responsável pela leitura de dados oriundos de postos pluviométricos.\n",
    "    \n",
    "    Parâmetros de entrada: txt_file_path <str>: diretório que contém o txt com dados pluviométricos.\n",
    "    \n",
    "    Return: temporal_dataframe <pd.DataFrame>: DataFrame contendo as informações de \n",
    "    posto (noluna) x data (índice).\n",
    "    '''\n",
    "    return temporal_dataframe"
   ]
  },
  {
   "cell_type": "code",
   "execution_count": null,
   "metadata": {},
   "outputs": [],
   "source": [
    "def get_station_info(station_list, metadata_file_path, temporal_dataframe):\n",
    "    '''\n",
    "    Função responsável pela obtenção de metadados dos postos convencionais.\n",
    "    \n",
    "    Parâmetros de entrada: temporal_dataframe <pd.DataFrame>: DataFrame contendo as informações de \n",
    "    posto (noluna) x data (índice).\n",
    "                           station_list <list>: lista dos códigos dos postos pluviométricos.\n",
    "                           metadata_file_path <str> : diretório do arquivo contendo metadados de cada posto\n",
    "  \n",
    "    Return: station_dict <dict>: Dicionário contendo como chaves os código do posto e como valores \n",
    "    um dicionário contendo as informações dos valores referentes a cada chave: \n",
    "    name (Nome do posto), code (Código do posto), localization (Geolocalização dos postos) e data (dados).\n",
    "    '''\n",
    "\n",
    "    return station_dict"
   ]
  },
  {
   "cell_type": "code",
   "execution_count": null,
   "metadata": {},
   "outputs": [],
   "source": [
    "def get_data_from_txt(txt_file_path):\n",
    "    temporal_dataframe = input_txt(txt_file_path)\n",
    "    station_dict = get_station_info(station_list, metadata_file_path, temporal_dataframe)\n",
    "    return station_data"
   ]
  },
  {
   "cell_type": "code",
   "execution_count": null,
   "metadata": {},
   "outputs": [],
   "source": [
    "#Interpolação dos dados dos postos convecionais\n",
    "def interp_dist(Dicionário de dados dos postos, Matriz de coordendas X e T):\n",
    "    return (Matriz de DataFrames de Dados de Postos)"
   ]
  },
  {
   "cell_type": "code",
   "execution_count": null,
   "metadata": {},
   "outputs": [],
   "source": [
    "def plot_map(Matriz dados plotagem)"
   ]
  },
  {
   "cell_type": "code",
   "execution_count": null,
   "metadata": {},
   "outputs": [],
   "source": [
    "def matrix_fail(Matriz de Dados)\n",
    "    return(Matriz de Dados de Falhas)"
   ]
  },
  {
   "cell_type": "code",
   "execution_count": null,
   "metadata": {},
   "outputs": [],
   "source": []
  }
 ],
 "metadata": {
  "kernelspec": {
   "display_name": "Python 3",
   "language": "python",
   "name": "python3"
  },
  "language_info": {
   "codemirror_mode": {
    "name": "ipython",
    "version": 3
   },
   "file_extension": ".py",
   "mimetype": "text/x-python",
   "name": "python",
   "nbconvert_exporter": "python",
   "pygments_lexer": "ipython3",
   "version": "3.5.2"
  }
 },
 "nbformat": 4,
 "nbformat_minor": 2
}
