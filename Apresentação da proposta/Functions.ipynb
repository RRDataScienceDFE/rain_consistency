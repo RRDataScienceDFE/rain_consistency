{
 "cells": [
  {
   "cell_type": "markdown",
   "metadata": {},
   "source": [
    "# Estruturação de ferramenta para escolha do melhor método de estimativa precipitação a partir de dados oriundos de radar."
   ]
  },
  {
   "cell_type": "markdown",
   "metadata": {},
   "source": [
    "### 1. Obtenção de série temporal de dados oriundos de radar:"
   ]
  },
  {
   "cell_type": "code",
   "execution_count": 3,
   "metadata": {},
   "outputs": [],
   "source": [
    "def input_bin(bin_file_path):\n",
    "    '''\n",
    "    Função responsável pela leitura de dados oriundos de radar no formato .bin.\n",
    "    \n",
    "    Parâmetros de entrada: path <str>: diretório que contém o arquivo binário (.bin)\n",
    "    \n",
    "    Return: list_of_matrix <np.array>: matriz de objetos do tipo pd.Series,\n",
    "    contendo em cada elemento da matriz, uma série temporal dos dados em cada ponto.\n",
    "    '''\n",
    "    return list_of_matrix"
   ]
  },
  {
   "cell_type": "code",
   "execution_count": null,
   "metadata": {},
   "outputs": [],
   "source": [
    "def spatial_grid(ctl_file_path):\n",
    "    '''\n",
    "    Função responsável pela criação da malha de discretização espacial de dados oriundos de radar\n",
    "    \n",
    "    Parâmetros de entrada: ctl_file_path <str>: diretório que contém o arquivo de metadados (.ctl)\n",
    "    \n",
    "    Return: matrix_of_coordinates <np.array>: matriz de objetos dictionary,\n",
    "        contendo para cada elemento da matriz, a respectiva localização geográfica.\n",
    "    '''\n",
    "    return matrix_of_coordinates"
   ]
  },
  {
   "cell_type": "code",
   "execution_count": null,
   "metadata": {},
   "outputs": [],
   "source": [
    "#MAIN: GET DATA FROM RADAR\n",
    "def get_dictionary_by_method(dictionary_of_paths_by_method):\n",
    "    '''\n",
    "    Função responsável por criar um dicionário contendo os dados do radar por método de estimação.\n",
    "    \n",
    "    Parâmetros de entrada: dictionary_of_paths_by_method <dict>: Dicionário contendo os diretórios \n",
    "                        que contém os arquivos binários (.bin) por método\n",
    "    \n",
    "    Return: dictionary_of_method_data <dict>: dicionário contendo os dados do radar por método.\n",
    "    '''\n",
    "\n",
    "    dictionary_of_method_data = {}\n",
    "    for method in dictionary_of_paths_by_method:\n",
    "        dictionary_of_method_data[method] = input_bin(dictionary_of_paths_by_method[method])\n",
    "    return dictionary_of_method_data\n",
    "    "
   ]
  },
  {
   "cell_type": "markdown",
   "metadata": {},
   "source": [
    "### 2. Obtenção de série temporal de dados dos postos pluviométricos:"
   ]
  },
  {
   "cell_type": "code",
   "execution_count": null,
   "metadata": {},
   "outputs": [],
   "source": [
    "def input_txt(txt_file_path):\n",
    "    '''\n",
    "    Função responsável pela leitura de dados oriundos de postos pluviométricos.\n",
    "    \n",
    "    Parâmetros de entrada: txt_file_path <str>: diretório que contém o txt com dados pluviométricos.\n",
    "    \n",
    "    Return: temporal_dataframe <pd.DataFrame>: DataFrame contendo as informações de \n",
    "    posto (noluna) x data (índice).\n",
    "    '''\n",
    "    return temporal_dataframe"
   ]
  },
  {
   "cell_type": "code",
   "execution_count": null,
   "metadata": {},
   "outputs": [],
   "source": [
    "def get_station_info(station_list, metadata_file_path, temporal_dataframe):\n",
    "    '''\n",
    "    Função responsável pela obtenção de metadados dos postos convencionais.\n",
    "    \n",
    "    Parâmetros de entrada: temporal_dataframe <pd.DataFrame>: DataFrame contendo as informações de \n",
    "                        posto (noluna) x data (índice).\n",
    "                           station_list <list>: lista dos códigos dos postos pluviométricos.\n",
    "                        metadata_file_path <str> : diretório do arquivo contendo metadados de cada posto\n",
    "  \n",
    "    Return: station_dict <dict>: Dicionário contendo como chaves os código do posto e como valores \n",
    "    um dicionário contendo as informações dos valores referentes a cada chave: \n",
    "    name (Nome do posto), code (Código do posto), localization (Geolocalização dos postos) e data (dados).\n",
    "    '''\n",
    "\n",
    "    return station_dict"
   ]
  },
  {
   "cell_type": "code",
   "execution_count": 2,
   "metadata": {},
   "outputs": [],
   "source": [
    "#MAIN: GET DATA FROM TXT:\n",
    "def get_data_from_txt(txt_file_path):\n",
    "    '''\n",
    "    Função responsável pela obtenção de dados e metadados de precipitação de estações convencionais.\n",
    "    \n",
    "    Parâmetros de entrada: txt_file_path <str>: diretório que contém os arquivos (.txt) de precipitação\n",
    "                           de postos convencionais.\n",
    "  \n",
    "    Return: station_dict <dict>: Dicionário contendo como chaves os código do posto e como valores \n",
    "    um dicionário contendo as informações dos valores referentes a cada chave: \n",
    "    name (Nome do posto), code (Código do posto), localization (Geolocalização dos postos) e \n",
    "    data (dados temporais <pd.Series>).\n",
    "    '''\n",
    "    temporal_dataframe = input_txt(txt_file_path)\n",
    "    station_dict = get_station_info(station_list, metadata_file_path, temporal_dataframe)\n",
    "    return station_dict"
   ]
  },
  {
   "cell_type": "markdown",
   "metadata": {},
   "source": [
    "### 3. Selecionando dados do radar para cada estação"
   ]
  },
  {
   "cell_type": "code",
   "execution_count": null,
   "metadata": {},
   "outputs": [],
   "source": [
    "def temporal_series_from_radar(matrix_of_coordinates, station_coordinates, dictionary_of_method_data):\n",
    "    '''\n",
    "    Função responsável pela criação de um dataframe contendo como colunas cada método de estimação\n",
    "    de precipitação e como índices as respectivas datas e horas referentes a cada estimativa.\n",
    "    \n",
    "    Parâmetros de entrada: matrix_of_coordinates <np.array>: matriz de objetos dictionary,\n",
    "                        contendo para cada elemento da matriz, a respectiva localização geográfica.\n",
    "                           station_coordinates <tuple>: tupla com coordenadas (lon, lat) para o posto\n",
    "                        em estudo.\n",
    "                           dicionary_of_method_and_matrix <dic>: Dicionário com chaves sendo o método\n",
    "                        de estimativa d eprecipitaçã e valores sendo uma lista de matrizes contendo\n",
    "                        os dados oriundos de radar.\n",
    "                        \n",
    "    Return: temporal_dataframe_from_radar <pd.DataFrame>: Dataframe contendo os dados temporais para\n",
    "    cada método de estimativa para o pixel que contém as coordenadas do posto em estudo.\n",
    "    '''\n",
    "    return temporal_dataframe_from_radar"
   ]
  },
  {
   "cell_type": "code",
   "execution_count": null,
   "metadata": {},
   "outputs": [],
   "source": [
    "def calculate_errors(series_from_radar, series_from_station):\n",
    "    '''\n",
    "    Função responsável pelo cáculo dos erros entre os dados de radar e os dados observados.\n",
    "    \n",
    "    Parâmetros de entrada: series_from_radar <pd.Series>: Série temporal contendo os dados do radar\n",
    "                        em um pixel que contém as coordenadas do posto pluviométrico.\n",
    "                           series_from_station <pd.Series>: Série temporal contendo os dados do posto\n",
    "                        pluviométrico.\n",
    "  \n",
    "    Return: nash_sutcliffe <float>: Valor do erro calculado por Nash-Sutcliffe.\n",
    "            correlation_coefficient <float>: Valor do erro calculado por coeficiente de correlação de\n",
    "        de Pearson.\n",
    "    '''\n",
    "    return nash_sutcliffe, correlation_coefficient"
   ]
  },
  {
   "cell_type": "code",
   "execution_count": null,
   "metadata": {},
   "outputs": [],
   "source": [
    "def select_best_method(dictionary_of_method_data, station_dict):\n",
    "    '''\n",
    "    Função responsável seleção do melhor método para estimativa de precipitação.\n",
    "    \n",
    "    Parâmetros de entrada: dictionary_of_method_data <dict>: dicionário contendo os \n",
    "                        dados do radar por método.\n",
    "                           station_dict <dict>: Dicionário contendo como chaves os código do posto e como valores \n",
    "                        um dicionário contendo as informações dos valores referentes a cada chave: \n",
    "    name (Nome do posto), code (Código do posto), localization (Geolocalização dos postos) e \n",
    "    data (dados temporais <pd.Series>).\n",
    "  \n",
    "    Return: best_method <str>: Melhor estimador de precipitação para a série de dados.\n",
    "    '''\n",
    "    return best_method"
   ]
  },
  {
   "cell_type": "code",
   "execution_count": null,
   "metadata": {},
   "outputs": [],
   "source": [
    "def plot_map(dictionary_of_method_data, best_method):\n",
    "    '''\n",
    "    Função responsável por plotar mapa acumulado de precipitação por evento a partir dos dados do\n",
    "    do melhor método para estimativa de precipitação.\n",
    "    \n",
    "    Parâmetros de entrada: dictionary_of_method_data <dict>: dicionário contendo os dados do radar\n",
    "                        por método.\n",
    "                           best_method <str>: Melhor estimador de precipitação para a série de dados.\n",
    "  \n",
    "    Return: None (gera mapa em outra guia)\n",
    "    '''\n",
    "\n",
    "    "
   ]
  },
  {
   "cell_type": "code",
   "execution_count": null,
   "metadata": {},
   "outputs": [],
   "source": [
    "def export_data_to_txt(dictionary_of_method_data, best_method):\n",
    "    '''\n",
    "    Função responsável pela exportação de séries de dados estimados pelo melhor método para txt, \n",
    "    seguindo modelo de entrada para modelos de previsão de vazão.\n",
    "    \n",
    "    Parâmetros de entrada: dictionary_of_method_data <dict>: dicionário contendo os dados do radar\n",
    "                        por método.\n",
    "                           best_method <str>: Melhor estimador de precipitação para a série de dados.\n",
    "  \n",
    "    Return: None (gera os arquivos na pasta selecionada)\n",
    "    '''\n"
   ]
  },
  {
   "cell_type": "code",
   "execution_count": null,
   "metadata": {},
   "outputs": [],
   "source": []
  }
 ],
 "metadata": {
  "kernelspec": {
   "display_name": "Python 3",
   "language": "python",
   "name": "python3"
  },
  "language_info": {
   "codemirror_mode": {
    "name": "ipython",
    "version": 3
   },
   "file_extension": ".py",
   "mimetype": "text/x-python",
   "name": "python",
   "nbconvert_exporter": "python",
   "pygments_lexer": "ipython3",
   "version": "3.5.2"
  }
 },
 "nbformat": 4,
 "nbformat_minor": 2
}
