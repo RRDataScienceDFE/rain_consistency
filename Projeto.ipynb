# RAIN_CONSISTENCY

   Aplicação de tratamento de dados de chuva provenientes de radar, desenvolvido para a disciplina de Introdução à Ciência dos dados do curos de Engenharia Ambientale  Sanitária da UFAL

# INCERTEZAS ASSOCIADAS ÀS ESTIMATIVAS DE PRECIPITAÇÃO POR RADAR METROLÓGICO

* Cayo Lopes Bezerra Chalegre
* Ewerton Amorim Oliveira
* Geyza Santos Correia
* Matheus Munt
* Christopher Freire Souza
* Carlos Ruberto Fragoso Jr.

## Introdução

   A caracterização de fenômenos ambientais é essencial para o desenvolvimento de ações de cunho socioeconômico e ambiental. Para a gestão de recursos hídricos, o processo de modelagem de fenômenos meteorológicos (modelagem meteorológica) e hidrológicos (modelagem hidráulica e hidrológica), se torna uma importante ferramenta na viabilização de análises técnico-cientificas, embasando a tomada de decisão na gestão desses recursos.
   A aplicação dessas ferramentas se evidencia desde a avaliação da ocorrência de patologias em plantações rurais (Megeto et al, 2014), a avaliação de áreas de risco de deslizamentos (Guimarães et al, 2017), modelagem de regimes hidrológicos (Miranda et al, 2017), previsão de vazões e enchentes em rios (Silva, 2006), (Silva, 2015), (Santos, 2013), dentre outras aplicações (Hsu,2003), (Solomon,1986) e (Cossich et al, 2015).
   A partir da modelagem meteorológica é possível realizar estimativas de volume de precipitação, temperatura, umidade do ar, dentre outras variáveis, que possibilitam a representação de fenômenos atmosféricos, tais como formação de nuvens, chuvas, ventos fortes, variações de maré. Na modelagem hidrológica e hidráulica, é possível realizar a caracterização de fenômenos como vazões escoadas em leitos de rios, escoamentos superficiais, caracterização de processos de escoamento de sedimentos, dentre outros.  
   O entendimento de processos hidrológicos se baseia no conhecimento da interdependência de diversas variáveis chave que compõe o ciclo hidrológico, dentre elas podemos citar a precipitação. Atualmente diversos órgãos e entidades realizam o monitoramento de dados de precipitação, como o Centro Nacional de Monitoramento de Desastres Naturais - CEMADEN, a Agência Nacional de Águas – ANA, o Instituto Nacional de Meteorologia – INMET e a nível local, a Secretária de Meio Ambiente e Recursos Hídricos – Semarh. 
   Estas entidades aplicam diferentes metodologias para a realização deste monitoramento, cada uma com suas particularidades. A mais comumente aplicada é o uso de postos pluviométricos, onde o monitoramento é feito pontualmente no local de instalação do posto. Essa metodologia permite uma boa estimativa temporal, porém a baixa quantidade de postos e não homogeneidade na distribuição espacial se apresenta como fatores limitantes para utilização dos dados oriundos destes. Além disso, existe a operação manual de alguns equipamentos, que podem agregar erros e incertezas.
   Outra alternativa metodológica é a estimativa de precipitação a partir de modelagem de dados oriundos de radares meteorológicos, que tem como atrativos a grande cobertura espacial, a alta resolução de espaço-tempo e disponibilidade em tempo real. Essa estimativa é realizada a partir da definição de uma relação entre a refletividade medida (Z), durante a varredura realizada pelo radar, e a taxa de precipitação (R), a está relação dá-se o nome de equação Z-R. Essas equações possuem parâmetros que devem ser ajustados a cada região de aplicação, sendo necessária a definição de equações Z-R específicas para cada localidade (Calheiros e Zawadzki,1986; Antonio,1995), além disso, existem diferentes equações Z-R, que são aplicadas de acordo com os dados obtidos nas varreduras do radar.
   Quanto as incertezas associadas às estimativas por radar, os principais fatores estão relacionados à distúrbios do processo de medição (e.g. estabilidade de calibração, atenuação) e à deficiências no procedimentos de conversão dos valores de refletividade medidos pelo radar para precipitação no solo (e.g. adequação da distribuição do tamanho da gota (DTG), perfil vertical da refletividade). Isso provoca características tanto sistemáticas quanto aleatórias, bem como estruturas dependentes de incerteza inerentes ao observado campo de precipitação (Wilson e Brandes, 1979; Zawadzki, 1984). 
   Os radares produzem diferentes tipos de dados (produtos) que dependem da metodologia adotada para a relação Z-R e também as diferentes formas de varredura para a captação do dado de refletância. Logo, cada as estimativas realizadas por cada um desses produtos podem associar diferentes erros e incertezas. 
   Nesse contexto, este estudo busca realizar um estudo comparativo entre os dados obtidos de postos pluviométricos e os dados obtidos a partir de dois produtos de radar, o PPI (Plan Position Indicator) e o CAPPI (Constant Altitude Plan Position Indicator), os quais foram aplicados diferentes relações Z-R para área de estudo, e assim, propor o modelo meteorológico que melhor se ajusta aos dados observados nos postos para a área de estudo escolhida.
    
## Objetivos

### Objetivo geral

   Propor qual modelo utilizado para a estimativa de dados de precipitação por radares se ajusta melhor aos dados observados em estações pluviométricas na bacia hidrográfica do Rio Mundaú.

### Objetivos específicos

   Desenvolver uma aplicação, na linguagem de programação Python, que viabilize a análise, tratamento e visualização de dados de precipitação;
   Caracterizar espacialmente o comportamento da precipitação oriunda das observações nos postos pluviométricos;
   Caracterizar espacialmente e temporalmente o comportamento da precipitação oriunda dos modelos aplicados aos dados de radar.

 
## REVISÃO BIBLIOGRÁFICA

### Estimativa de precipitação por radar

   A comparação dos dados estimados pelo radar com dados de pluviômetros é importante para entender as diferenças na estratégia de amostragem dos instrumentos e as suas limitações. O radar faz uma varredura em uma série de ângulos de elevação completando uma medição do volume no espaço ao redor do radar a cada 10 minutos. Isto implica que o radar irá retornar uma simples amostra de um campo de precipitação de um mesmo local neste intervalo de tempo, enquanto que o pluviômetro acumula os dados de precipitação continuamente em um único ponto.
   Na ocorrência de precipitações uniformes a diferença de amostragem entre ambas as metodologias pode não ser significativa, porém, na ocorrência de chuvas convectivas, onde a expectativa média de uma tempestade está entre 20 e 30 minutos, uma varredura a cada 10 minutos impõe uma série de dúvidas sobre a acurácia dos dados obtidos pelo radar (SEED et al., 1996).
   Além disso, outro fator que pode contribuir para as discrepâncias entre as metodologias é a existência de um retardamento entre a medida efetuada pelo radar e a realizada pelo pluviômetro (ZAWADZKI, 1975). Para uma mudança rápida na intensidade da precipitação esse retardamento introduz uma discrepância maior entre as duas medidas. Essa defasagem pode ser ainda maior conforme a distância entre o pluviômetro e o radar, pois as diferenças nas observações obtidas pelos radares e pluviômetros são também dependentes da distância radar-pluviômetro (ANTÔNIO, 1984b).
   Outra parte significativa da dispersão observada na relação entre o radar e o pluviômetro pode ser atribuída ao fato de que a medida de um simples pluviômetro pode não ser representativa da área onde ocorreu a precipitação (SEED et al., 1996). Além disso, as diferenças entre dados de radar e pluviômetros são também dependentes da distância radar-pluviômetro (ANTÔNIO, 1984b).
   As medidas do radar e do pluviômetro se aproximam quando a integração dos dados é feita considerando um período maior de precipitação. Comparações instantâneas mostram grande discrepância devido aos problemas na conversão de refletividade para taxas de precipitação e também devido às diferentes características dos instrumentos. A relação entre a refletividade (Z) e a precipitação (R), quando a precipitação é do tipo constante e uniforme, pode ser bem-sucedida. Quando ocorrem chuvas altamente variáveis no tempo e no espaço, a discrepância devido ao atraso entre as medidas e a suavização nas observações realizadas pelo radar tornam praticamente impossível qualquer melhoria na qualidade da relação Z-R (ZAWADZKI, 1975). 
   Segundo ANTÔNIO (1998), a integração dos dados de radar sobre áreas mais extensas com um maior intervalo de tempo, normalmente minimiza os efeitos discrepantes dos valores obtidos pelo radar quando comparados às medidas obtidas nos pluviômetros. Nesse trabalho, o autor utilizou dados de refletividade de imagens tipo CAPPI do radar meteorológico do IPMet/UNESP e pluviógrafos localizados dentro da área de cobertura do radar, além de dois disdrômetros, numa tentativa de ajustar medidas de chuva com o radar em tempo real.
   ANTÔNIO (1998) corrobora as afirmações de ZAWADZKI (1975) de que as tentativas de se utilizarem séries curtas de dados de precipitação medidas com pluviômetros e estimadas por radar têm levado a resultados pouco satisfatórios, quer no estabelecimento de relações Z-R específicas para cada sítio, quer nas relações Z-R de cada período, como foi demonstrado em seu trabalho utilizando oito estações pluviométricas situadas na região central do Estado de São Paulo.
    
#### Relação Z-R
    
   O radar mede a energia retroespalhada do volume de gota, expresso por seu fator de refletividade (Z) em um determinado volume de ar. O valor obtido de Z pode ser transformado em taxa de precipitação em mm/h (R), utilizando a equação geralmente referida como relação Z-R, dada por:

[equation][1]Z=aR^b	Equação 1

   Onde:
   
    a e b: constantes numéricas;
    Z: fator de refletividade do radar (mm6/m3);
    R: taxa de precipitação (mm/h).
    
   O sistema de radar pode melhorar a estimativa da precipitação usando diferentes relações Z-R calibradas com dados observados. Além disso, a seleção de eventos com diferentes condições sinóticas  pode fornecer um ganho nas estimativas de precipitação pelo radar (Dhiram, et al., 2016).
   A distribuição do tamanho de gota de chuva (DTG) varia de local para local, entre os diferentes sistemas meteorológicos e com a sazonalidade. Devido a esses fatores, no estado de Alagoas, por exemplo, é recomendada a determinação de relações Z-R específicas para cada sistema meteorológico que o atinge (Moraes, 2011).
   A relação Z-R geral para a Costa Leste do Nordeste Brasileiro (NEB) é Z = 176,5 R1,29, com coeficiente de correlação de 0,83. Também foram produzidas relações para precipitações estratiforme e convectiva: Z = 167,8 R1,26 [r2=0,70], Z = 65,46 R1,69 [r2=0,84] respectivamente (Tenório et. al., 2010).
    
#### Principais produtos do radar
    
   Os principais produtos oriundos dos radares são imagens gráficas no formato 2D obtidas a partir de uma determinada varredura, onde cada uma destas imagens podem representar diferentes tipos de dados (produtos), destacando-se:

* Produtos padrão:

    PPI (Plan Position Indicator); CAPPI (Constant Altitude Plan Position Indicator); RHI (Range Height Indicator); MAXCAPPI (Maximum Constant Altitude Plan Position Indicator); MPPI (Multiple Plan Position Indicator); EHT (Echo Height); EB (Echo Base); VAD (Velocity Azimuth Display); VVP (Volume Velocity Processing).

* Produtos hidrológicos:

    DPSRI (Dual Polarization Surface Rainfall Intensity); PAC (Precipitation Accumulation); PRT (Point Rainfall Total); RGRT (Raingauge – Radar Total); RIH (Rainfall Intensity Histogram); RSA (River Subcatchment Accumulation); SRI (Surface Rainfall Intensity); VIL (Vertical Integrated Liquid).
    Cada um destes produtos é obtido de acordo à diferentes condições e metodologias de varredura. O estudo em questão foi focado na análise de dois produtos padrão: PPI (Plan Position Indicator); CAPPI (Constant Altitude Plan Position Indicator). Cada um deles explanados nos tópicos as seguir.

##### Indicador de Posição do Plano (PPI)

   Este produto fornece a projeção num plano horizontal pré-definido dos dados de refletividade, taxa de precipitação, velocidade radial média ou largura espectral, obtido através de uma varredura em azimute em coordenadas polares, para um ângulo de elevação determinado.

##### Indicador de posição do plano de altitude constante (CAPPI) 

   Este produto fornece a projeção em um plano horizontal constante pré-definido, dos dados de refletividade, taxa de precipitação, velocidade radial média ou largura espectral, obtidos através de uma varredura volumétrica.
   Para a composição de um CAPPI (Figura 1), programa-se a antena do radar para dar uma volta completa (360°) e mudar sua elevação em relação ao horizonte. Com isso consegue-se "varrer" completamente a atmosfera, do solo até o topo das nuvens. De cada elevação é extraído um anel de informações cuja altura média corresponde a um valor pré-estabelecido.

![title]("img/Figura_1.png")Figura 1 – Composição de um CAPPI.
 
##### Dupla polarização

   Radares convencionais (polarização única) utilizam apenas o fator refletividade Z para estimativas de precipitação enquanto que os polarimétricos são capazes de medir refletividade diferencial Zdr, diferencial de fase específica Kdp e coeficiente de correlação entre dois pulsos polarizados ortogonalmente φDP. A utilização de parâmetros adicionais à refletividade promove uma melhoria significativa na qualidade das informações coletadas em um radar. É possível a distinção entre ecos de precipitação e ecos provenientes de outros alvos (terreno, insetos, pássaros, neve, granizo, etc.), minimizando, por exemplo, as incertezas do espectro de gotas nas estimativas de precipitação (Giangrande; Ryzhkov, 2008).
   A metodologia consiste em aplicar as variáveis polarimétricas (Z – refletividade horizontal [dBZ], Zdr – refletividade diferencial [dB] e Kdp - diferencial do deslocamento de fase [°/km]) conforme os limiares de taxa de precipitação (Equações 2, 3, 4, 5 e 6) para a obtenção da precipitação instantânea segundo a proposta por Ryzhkov et al.  (2005), metodologia esta que está embutida no Software Rainbow® . A cada varredura (10 minutos) é feita essa estimativa e os resultados são acumulados em períodos de 24-h.  
 
Equação 2

Para: R(Z) < 6 mm/h	
 
Equação 3

Para: 6 < R(Z) < 50 mm/h	
 
Equação 4

Para: R(Z) > 50 mm/h	
Onde:
 
Equação 5

R(Z) é a relação Z-R. Em que a e b são constantes, Z corresponde a refletividade e R corresponde a precipitação. 
 
Equação 6

Para KDP > 0	

   Estimativas de precipitação baseadas em variáveis polarimétricas tem sido foco de diversos estudos nas últimas três décadas. Diferentes relações para taxas de precipitação (R) foram sugeridas por diversos autores, as mais comuns utilizam combinações do tipo R(Z, Zdr), R(Kdp) ou R(Kdp, Zdr) e têm demonstrado vantagens quando comparadas a relações baseadas somente em refletividade Z (Wang; Chandrasekar, 2010).

## MATERIAIS E MÉTODOS

   A metodologia aplicada neste estudo será dividida em três etapas: a) desenvolvimento de uma ferramenta em Python para processamento dos dados e análises; b) Caracterização dos dados pluviométricos; c) Análise da capacidade de detecção do radar nos eventos escolhidos; d) Comparação dos dados oriundos dos pluviômetros e dos dados do radar e análise das incertezas.

### Aplicação na linguagem de programação Python 

### Dados de precipitação

   Para realização das análises foram escolhidos cinco evento, caracterizados pela elevada precipitação. Estes eventos são apresentados a seguir na Tabela 1.

Tabela 1 – Eventos hidrológicos de interesse.

|Evento |Início    |       Fim|
|-----------------------------|
|1      |12/05/2014|19/05/2014|
|-----------------------------|
|2      |08/09/2014|15/09/2014|
|-----------------------------|
|3      |04/10/2014|12/10/2014|
|-----------------------------|
|4      |30/06/2015|08/07/2015|
|-----------------------------|
|5      |18/05/2017|30/05/2017|

#### Dados Pluviométricos 

   Os dados pluviométricos foram obtidos a partir do banco de dados disponibilizado pela Secretaria de Estado de Meio Ambiente e Recursos Hídricos de Alagoas (SEMARH) e pela Agência Nacional de Águas (ANA). 

#### Dados Radar

   Neste trabalho foram utilizados os dados do radar meteorológico oriundos dos produtos CAPPI e PPI, empregando três relações Z-R desenvolvidas para Alagoas, e a relação de Marshall-Palmer. A opção por estes produtos se deu devido as diferentes características de cada um. O produto PPI apresenta os dados da forma mais próxima da qual o radar coleta os dados, isto é, em plano inclinado formando um ângulo com o horizonte, tendo maior aproximação com os valores dos postos pluviométricos, por esse plano ser mais próximo ao solo. . No entanto, no produto CAPPI há metodologias de interpolação que suprem as falhas nos dados obtidos pelo PPI, principalmente nos dados mais afastados do radar.
   Os dados de radar utilizados foram obtidos junto ao Centro Nacional de Monitoramento e Alertas de Desastres Naturais (Cemaden), do radar meteorológico instalado em Maceió/AL, localizado em 35.77°W e 9.55°S, banda S, doppler e de dupla polarização. Os pontos da grade do radar têm resolução espacial de 0,5km, cobrindo a área da Bacia Hidrográfica do rio Mundaú, onde cada ponto da grade corresponderá a uma estação virtual.
   Além dos dados de precipitação empregando apenas as diferentes relações Z-R, que utilizam somente a refletividade horizontal (Zh), também foi empregado a dupla polarização, o DPSRI (Dual Polarization Surface Rainfall Intensity) (Tabela 2). Para área de estudo, o dados foram obtidos utilizando as relações Z-R desenvolvidas para Alagoas, segundo Tenório (2010) e a equação de Marshall-Palmer (1948) desenvolvida para os EUA.

Tabela 2 – Descrição dos dados.
Precipitação acumulada de 1 hora (usando o algoritmo do Rainbow)
Produto	Equação Z-R	Variáveis	Código
CAPPI	Geral de Alagoas	Refletividade horizontal - Zh (dBZ)	P1G
	Geral de Alagoas
DPSRI (Dual Polarization Surface Rainfall Intensity)	Refletividade horizontal - Zh (dBZ)	P1R
		Refletividade diferencial - Zdr (dB)	
		Diferencial de deslocamento de fase - Kdp (°/km)	
	Convectiva e Estratiforme de Alagoas	Refletividade horizontal - Zh (dBZ)	P1T
Precipitação acumulada de 10 minutos
Produto	Equação Z-R	Variáveis	Código
PPI	Geral de Alagoas	Refletividade horizontal - Zh (dBZ)	PGE
	Marshall-Palmer	Refletividade horizontal - Zh (dBZ)	PMP

### Estatísticas de ocorrência de chuva

   As estatísticas de ocorrência de chuva estão associadas à ocorrência ou não de um evento de chuva, e para isso é estabelecido um limiar para registros de chuva iguais ou superiores a esse valor (e.g., igual a 0,01 mm hora−1). Todas as estatísticas referentes nesta seção são baseadas em uma tabela de contingência (ver Tabela 3), a qual contém a frequência dos possíveis eventos para as quatro combinações de concordância entre os dados estimados por radar e observações de superfície (pluviômetros). Os possíveis eventos são classificados de acordo com as possíveis combinações para um determinado limiar. Essas combinações encontram-se descritas abaixo:
    
	Correto positivo (a): quando o radar e o pluviômetro registram a ocorrência de chuva na bacia igual ou maior do que o limiar determinado;
	Falso alarme (b): quando o radar registra a ocorrência de chuva na bacia igual ou maior do que o limiar determinado, em discordância com o pluviômetro;
	Falha (c): quando o radar não registra a ocorrência de chuva na bacia igual ou maior do que o limiar determinado, em discordância com o pluviômetro;
	Correto negativo (d): quando o radar e o pluviômetro não registram a ocorrência de chuva na bacia igual ou maior do que o limiar determinado.

Tabela 3 - Tabela de contingência utilizada para o cálculo das estatísticas de ocorrência.
 		Observações da superfície	
		Sim	Não	Total
Estimativas 
por radar	Sim	a	b	a + b
	Não	c	d	c + d
Total	a + c	b + d	n = a + b + c + d

#### Probabilidade de detecção (POD)

   A taxa de acerto ou probabilidade de detecção (POD, do inglês probability of detection) representa a fração de dados observados que foram corretamente identificados pela estimativa de chuva por radar, sendo representado pela relação abaixo:

POD=a/(a+c)	Equação 7

   Com isso, o valor de POD varia entre 0 e 1, e para uma perfeita detecção o valor de POD deve ser igual a 1.

#### Razão de falso alarme (FAR)

   A razão de falso alarme (FAR, do inglês false alarm ratio) representa a fração de dados observados sem chuva que não foram corretamente identificados pela estimativa de chuva por radar, ou seja, o radar detecta chuva, porém o dado observado em superfície não. Sendo representado pela relação abaixo:
 
Equação 8

   Com isso, o valor de FAR varia entre 0 e 1, obtendo-se valor igual à 0 para uma perfeita estimativa.

#### Viés de frequência (BIASf)

   O escore de viés ou viés da frequência (BIASf, do inglês frequency bias) mede a relação entre as frequências de valores estimados para as frequências de valores observados. Com isso, indica a subestimativa ou superestimativa da quantidade de eventos chuvosos que são corretamente identificados pela estimativa por radar. Sendo representado pela relação abaixo:
 
Equação 9

   Para uma perfeita detecção desses eventos chuvosos, o valor de BIASf é igual a 1. Se o radar detecta um número menor de eventos chuvosos, então o valor do BIASf é menor do que 1, indicando a ocorrência de subestimativa. Da mesma maneira, se o radar detecta um número maior de eventos chuvosos, o valor do BIASf é maior do que 1, indicando a ocorrência de superestimativa.

#### Escore de destreza de Gilbert (ETS)

   O escore de destreza de Gilbert ou escore de destreza equitativa (ETS, do inglês equitable threat score) mede a fração de eventos observados que foram corretamente estimados, ajustados com relação a acertos associados com possibilidades randômicas. Isso ocorre por meio da consideração de um termo que penaliza os acertos positivos (a) com relação à ocorrência de falsos alarmes (b) e falhas (c), sendo representado pela relação abaixo:
 
Equação 10

   Com isso, o escore perfeito para ETS é obtido quando o mesmo é igual à 1. Já para o pior escore, o mesmo ocorre quando menor ou igual a 0.

#### Razão de acurácia (AR)

   A fração correta ou razão de acurácia (AR, do inglês accuracy ratio) mede a fração de eventos estimados corretamente, independentemente se foram corretos positivos (a) ou negativos (d), com relação ao total de eventos (n), sendo representado pela relação abaixo:
 
Equação 11

   Com isso, a razão varia entre 0 e 1, com perfeita detecção igual a 1.

### Estatísticas quantitativas de chuva
    
   As estatísticas quantitativas de chuva estão associadas às diferenças nas intensidades dos dados obtidos pelo radar e pelos pluviômetros.

#### Viés

   O erro médio ou viés aditivo (BIAS, do inglês additive bias) representa o erro médio das taxas de chuva identificadas por radar com relação ao dado de superfície (pluviômetro). Sendo representado pela relação abaixo:
 
Equação 12

   Onde Si e Oi representam os i-ésimos pares de estimativa de precipitação e observação por pluviômetro, respectivamente. Essa medida varia de −∞ a +∞, sendo que para uma perfeita estimativa obtém-se valor igual a 0.

#### Coeficiente de correlação

   O coeficiente de correlação (r), representa a associação linear entre as estimativas de chuva por radar e pluviômetros. O alcance varia de -1 a 1, com perfeita associação igual a unidade.
 
Equação 13

### Caracterização dos dados de chuva

   Inicialmente serão identificados os postos pluviométricos na área de influência ao local de estudo. Posteriormente, será avaliada a porcentagem de falhas dos dados, e, a depender do índice de falhas, será realizado o seu preenchimento. A etapa posterior consta na definição de um período de análise que apresente maior continuidade de dados.
   A comparação entre os dados observados nos postos pluviométricos e os oriundos dos modelos do radar, serão realizadas em duas análises: i) análise pontual; e ii) análise espacial.
   A análise pontual constará da comparação entre os dados observados nos postos e os dados previsto pelos modelos no local onde estão instalados. Contudo, a resolução das células dos modelos dos radares é de 1000m x 1000m, logo será considerada a chuva média observada nesta célula como a chuva do posto que ali se localizar. 
   Na segunda análise será necessário espacializar a chuva observada nos postos, e para tal será aplicada a técnica de interpolação dos dados observados do inverso do quadrado das distâncias (IDW) dando origem à um mapa de precipitação (Figura 1). A IDW é uma técnica a qual são estimados valores para locais não amostrados a partir da média ponderada pela distância de pontos amostrais dentro de determinada região (Mello et al., 2003). É uma técnica de simples implementação e que no estudo de Rodrigues et al (2012) apresentou maior homogeneidade na interpolação de dados de precipitação quando comparada ao método de kringragem.

![title]("img/Figura_2.png")Figura 1: Exemplo de Mapa de Precipitação. Fonte: INMET,2018.
 
   Após a espacialização dos dados dos postos serão realizadas as comparações entre os dados obtidos com os dados oriundos dos modelos do radar. Esta comparação será feita a partir do coeficiente de Nash-Sutcliffe e coeficiente de correlação amostral (r²), além da avaliação visual dos mapas de precipitação.

### Área de estudo: Bacia Hidrográfica do Rio Mundaú
 
![title]("img/Figura_3.png")
 
## Resultados e discussões

## Conclusões 

## Referências

COSSICH, W.; CATALDI, M.; ROTUNNO FILHO, O. C.; Performance Assessment of Generation of Scenarios for Reservoir Inflows Using Ensemble Rainfall Forecasts. Ciência e Natura, v. 37, p. 55-62; 2015.

Guimarães, R.F.; Machado, W.P.; de Carvalho, O.A., Júnior; Montgomery, D.R.; Gomes, R.A.T.; Greenberg, H.M.; Cataldi, M.; Mendonça, P.C. Determination of Areas Susceptible to Landsliding Using Spatial Patterns of Rainfall from Tropical Rainfall Measuring Mission Data. Rio de Janeiro, Brasil. ISPRS Int. J. Geo-Inf., 6, 289; 2017.

Dias, T. L.; Cataldi, M.; Ferreira, V. H.; Aplicação de técnicas de redes neurais e modelagem atmosférica para elaboração de previsões de vazão na Bacia do Rio Grande (MG). Engenharia Sanitária e Ambiental, Rio de Janeiro, v.22, n.1, p.169-178; 2017.
HSU, M. FU; J. & LIU, W. Flood routing with real-time stage correction method for flash flood forecasting in the Tanshui River. Journal of Hydrology, v. 277, p 267-280; 2003.

MELLO, C. R. DE; LIMA, J. M.; SILVA, A. M.; MELLO, J. M.; SILVA, M. S. Krigagem e inverso do quadrado da distância para interpolação dos parâmetros da equação de chuvas intensas. Revista Brasileira de Ciência do Solo, v.27, n.5, p.925-933; 2003.

Miranda, N. M.; Cataldi, M.; Da Silva; F. das N. R.; Simulação do Regime Hidrológico da Cabeceira do Rio São Francisco a Partir da Utilização dos Modelos SMAP e RegCM; Anuário do Instituto de Geociências da Universidade Federal do Rio de Janeiro - UFRJ, v. 40, p.328-339; 2017.

MEGETO, G. A. S.; OLIVEIRA, S. R. DE M.; DEL PONTE, E. M.; MEIRA, C. A. A.; Árvore de Decisão para Classificação de Ocorrências de Ferrugem Asiática em Lavouras Comerciais com Base em Variáveis Meteorológicas. Engenharia Agrícola, Jaboticabal, v.34, n.3, p.590-599; 2014.

RODRIGUES, M. T. R.; Rodrigues, B. T.; Monte, B. E. O.; APRECIAÇÃO DE MÉTODOS DE INTERPOLAÇÃO EM DADOS PLUVIOMÉTRICOS E SUA DISTRIBUIÇÃO ESPACIAL.  Revista Brasileira de Engenharia de Biossistemas. v.6., n.1, p.1-7; 2012.

SANTOS, A. K. Modelagem do acompanhamento e controle de cheias em bacias hidrográficas de grande variação de altitude. Estudo de caso: bacia do rio Mundaú. 126p. Dissertação (Mestrado). Recife. Universidade Federal de Pernambuco; 2013.  

SILVA	, J.B.L. Modelos de previsão de enchente em tempo real para o município de Nova Era – MG. Pós-Graduação em Engenharia Agrícola da Universidade Federal de Viçosa, 113 p., Minas Gerais; 2006.

SOLOMON, S. I., BASSO, E., OSORIO, C., de MORAES, H. M., SERRANO, A. Flood forecasting for Tucurui hydroelectrical plant, Brazil. Water Resources Bulletin, v. 22, n. 2, p. 209-217; 1986.

ANTONIO, M. A. Técnica de ajuste em tempo real de medidas de chuva com radar. Tese (Doutorado) – Universidade Estadual Paulista, Faculdade de Ciências Agronômicas – UNESP, Botucatu, SP, 1998.

ANTONIO, M. A. Z-R relationship range dependence. In: International Symposium on Hydrological Application of Weather Radars, 1995, São Paulo. Anais...São Paulo: ABRH, 1995, p. 45-51.

ANTONIO, M. DE A. Considerações sobre integração de medidas de chuva por radar. São Carlos, 111p. Dissertação (Mestrado em Hidráulica e Saneamento) – Escola de Engenharia de São Carlos, Universidade de São Paulo, 1984b.

BRANDES, E.A., WILSON, J.W., 1979. Radar measurement of rainfall — summary. Bulletin of the American Meteorological Society 60, 1048–1058.

CALHEIROS, R. V.; ZAWADZKI, I.I. Reflectivity Rain Rate Relationships for Radar Hydrology in Brazil. Journal of Climate and Applied Meteorology, v. 20, n.1, p. 118-132, 1986.

MORAES, M. C. S. Parâmetros de radar e distribuição do tamanho de gotas de chuvas em sistema de precipitação continental ou marinha no leste do Nordeste do Brasil: sua influência na estimativa de vazão na Bacia do rio Mundaú. Tese de doutorado - Programa de Pós-Graduação em Meteorologia da Universidade Federal de Campina Grande.

RYZHKOV, A. V.; GIANGRANDE, S. E.; SCHUUR, T. J. Rainfall estimation with a polarimetric prototype of WSR-88D. Journal Applied Meteorology, v. 44, p. 502-515, 2005. http://dx.doi.org/10.1175/JAM2213.1

SEED, A. W.; NICOL, J.; AUSTIN, G. L.; STOW, C. D.; BRADLEY, S. G. The impact of radar and raingage sampling errors when calibration a weather radar. Meteorological Applications, v. 3, p. 43-52, 1996.

TENÓRIO, R. S.; MORAES, M. C. S.; SAUVAGEOT, H. Raindrop Size Distribution and Radar Parameters in Coastal Tropical Rain Systems of Northeastern Brazil. Journal of Applied Meteorology and Climatology, 2012.

ZAWADSKI, I. I. On radar-raingage comparison. Journal of Applied Meteorology and Climatology, v. 14, p. 1430-1436, 1975.

ZAWADSKI, I. I. On radar-raingage comparison. Journal of Applied Meteorology and Climatology, v. 14, p. 1430-1436, 1975.

