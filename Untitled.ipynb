{
 "cells": [
  {
   "cell_type": "markdown",
   "metadata": {},
   "source": [
    "# INCERTEZAS ASSOCIADAS ÀS ESTIMATIVAS DE PRECIPITAÇÃO POR RADAR METROLÓGICO"
   ]
  },
  {
   "cell_type": "markdown",
   "metadata": {},
   "source": [
    "* Cayo Lopes Bezerra Chalegre\n",
    "* Ewerton Amorim Oliveira\n",
    "* Geyza Santos Correia\n",
    "* Matheus Munt\n",
    "* Christopher Freire Souza\n",
    "* Carlos Ruberto Fragoso Jr."
   ]
  },
  {
   "cell_type": "markdown",
   "metadata": {},
   "source": [
    "## 1. Considerações Iniciais"
   ]
  },
  {
   "cell_type": "markdown",
   "metadata": {},
   "source": [
    "\n",
    "    A caracterização de fenômenos ambientais é essencial para o desenvolvimento de ações de cunho socioeconômico e ambiental. Para a gestão de recursos hídricos, o processo de modelagem de fenômenos meteorológicos (modelagem meteorológica) e hidrológicos (modelagem hidráulica e hidrológica), se torna uma importante ferramenta na viabilização de análises técnico-cientificas, embasando a tomada de decisão na gestão desses recursos.\n",
    "    A aplicação dessas ferramentas se evidencia desde a avaliação da ocorrência de patologias em plantações rurais (Megeto et al, 2014), a avaliação de áreas de risco de deslizamentos (Guimarães et al, 2017), modelagem de regimes hidrológicos (Miranda et al, 2017), previsão de vazões e enchentes em rios (Silva, 2006), (Silva, 2015), (Santos, 2013), dentre outras aplicações (Hsu,2003), (Solomon,1986) e (Cossich et al, 2015).\n",
    "    A partir da modelagem meteorológica é possível realizar estimativas de volume de precipitação, temperatura, umidade do ar, dentre outras variáveis, que possibilitam a representação de fenômenos atmosféricos, tais como formação de nuvens, chuvas, ventos fortes, variações de maré. Na modelagem hidrológica e hidráulica, é possível realizar a caracterização de fenômenos como vazões escoadas em leitos de rios, escoamentos superficiais, caracterização de processos de escoamento de sedimentos, dentre outros.  \n",
    "    O entendimento de processos hidrológicos se baseia no conhecimento da interdependência de diversas variáveis chave que compõe o ciclo hidrológico, dentre elas podemos citar a precipitação. Atualmente diversos órgãos e entidades realizam o monitoramento de dados de precipitação, como o Centro Nacional de Monitoramento de Desastres Naturais - CEMADEN, a Agência Nacional de Águas – ANA, o Instituto Nacional de Meteorologia – INMET e a nível local, a Secretária de Meio Ambiente e Recursos Hídricos – Semarh. \n",
    "    Estas entidades aplicam diferentes metodologias para a realização deste monitoramento, cada uma com suas particularidades. A mais comumente aplicada é o uso de postos pluviométricos, onde o monitoramento é feito pontualmente no local de instalação do posto. Essa metodologia permite uma boa estimativa temporal, porém a baixa quantidade de postos e não homogeneidade na distribuição espacial se apresenta como fatores limitantes para utilização dos dados oriundos destes. Além disso, existe a operação manual de alguns equipamentos, que podem agregar erros e incertezas.\n",
    "    Outra alternativa metodológica é a estimativa de precipitação a partir de modelagem de dados oriundos de radares meteorológicos, que tem como atrativos a grande cobertura espacial, a alta resolução de espaço-tempo e disponibilidade em tempo real. Essa estimativa é realizada a partir da definição de uma relação entre a refletividade medida (Z), durante a varredura realizada pelo radar, e a taxa de precipitação (R), a está relação dá-se o nome de equação Z-R. Essas equações possuem parâmetros que devem ser ajustados a cada região de aplicação, sendo necessária a definição de equações Z-R específicas para cada localidade (Calheiros e Zawadzki,1986; Antonio,1995), além disso, existem diferentes equações Z-R, que são aplicadas de acordo com os dados obtidos nas varreduras do radar.\n",
    "    Quanto as incertezas associadas às estimativas por radar, os principais fatores estão relacionados à distúrbios do processo de medição (e.g. estabilidade de calibração, atenuação) e à deficiências no procedimentos de conversão dos valores de refletividade medidos pelo radar para precipitação no solo (e.g. adequação da distribuição do tamanho da gota (DTG), perfil vertical da refletividade). Isso provoca características tanto sistemáticas quanto aleatórias, bem como estruturas dependentes de incerteza inerentes ao observado campo de precipitação (Wilson e Brandes, 1979; Zawadzki, 1984). \n",
    "    Os radares produzem diferentes tipos de dados (produtos) que dependem da metodologia adotada para a relação Z-R e também as diferentes formas de varredura para a captação do dado de refletância. Logo, cada as estimativas realizadas por cada um desses produtos podem associar diferentes erros e incertezas. \n",
    "    Nesse contexto, este estudo busca realizar um estudo comparativo entre os dados obtidos de postos pluviométricos e os dados obtidos a partir de dois produtos de radar, o PPI (Plan Position Indicator) e o CAPPI (Constant Altitude Plan Position Indicator), os quais foram aplicados diferentes relações Z-R para área de estudo, e assim, propor o modelo meteorológico que melhor se ajusta aos dados observados nos postos para a área de estudo escolhida."
   ]
  },
  {
   "cell_type": "code",
   "execution_count": null,
   "metadata": {},
   "outputs": [],
   "source": []
  }
 ],
 "metadata": {
  "kernelspec": {
   "display_name": "Python 3",
   "language": "python",
   "name": "python3"
  },
  "language_info": {
   "codemirror_mode": {
    "name": "ipython",
    "version": 3
   },
   "file_extension": ".py",
   "mimetype": "text/x-python",
   "name": "python",
   "nbconvert_exporter": "python",
   "pygments_lexer": "ipython3",
   "version": "3.5.2"
  }
 },
 "nbformat": 4,
 "nbformat_minor": 2
}
